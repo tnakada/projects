{
 "cells": [
  {
   "cell_type": "markdown",
   "metadata": {},
   "source": [
    "1. Load AminerData_v6.mat using scipy.io.loadmat\n",
    "2. Load original layer Ai (first layer of multiplex network)\n",
    "3. Format Ai into edgelist format for MultiVERSE\n",
    "4. Take output matrices Fi from FASCINATE\n",
    "4. Cosine Similarity on each Fi to form Bi (second layer of multiplex network)\n",
    "5. Create edgelist from Bi"
   ]
  },
  {
   "cell_type": "code",
   "execution_count": null,
   "metadata": {},
   "outputs": [],
   "source": [
    "\"\"\"\n",
    "CREATING MULTIPLEX NETWORKS AND FORMATTING FOR MULTIVERSE\n",
    "\"\"\""
   ]
  },
  {
   "cell_type": "code",
   "execution_count": 1,
   "metadata": {},
   "outputs": [],
   "source": [
    "import numpy as np\n",
    "import matplotlib.pyplot as plt\n",
    "%matplotlib inline\n",
    "from scipy.io import loadmat\n",
    "from sklearn.metrics.pairwise import cosine_similarity\n",
    "import time"
   ]
  },
  {
   "cell_type": "code",
   "execution_count": null,
   "metadata": {},
   "outputs": [],
   "source": [
    "\"\"\"\n",
    "LAYER A1 FORMATTING FOR PROPER MULTIVERSE INPUT\n",
    "\"\"\""
   ]
  },
  {
   "cell_type": "code",
   "execution_count": 2,
   "metadata": {},
   "outputs": [
    {
     "data": {
      "text/plain": [
       "dict_keys(['__header__', '__version__', '__globals__', 'DO', 'DU', 'G', 'G_new'])"
      ]
     },
     "execution_count": 2,
     "metadata": {},
     "output_type": "execute_result"
    }
   ],
   "source": [
    "aminer = loadmat('AminerData_v6.mat')\n",
    "aminer.keys()"
   ]
  },
  {
   "cell_type": "code",
   "execution_count": 3,
   "metadata": {},
   "outputs": [],
   "source": [
    "# import original AminerData\n",
    "# A1 = aminer['G'][0,0][0][0][0] \n",
    "A2 = aminer['G'][0,1][0][0][0]\n",
    "# A3 = aminer['G'][0,2][0][0][0]"
   ]
  },
  {
   "cell_type": "code",
   "execution_count": 4,
   "metadata": {},
   "outputs": [
    {
     "data": {
      "text/plain": [
       "(1, 899)"
      ]
     },
     "execution_count": 4,
     "metadata": {},
     "output_type": "execute_result"
    }
   ],
   "source": [
    "# A1[0].shape, A3[0].shape  # representation of first node\n",
    "A2[0].shape"
   ]
  },
  {
   "cell_type": "code",
   "execution_count": 18,
   "metadata": {},
   "outputs": [],
   "source": [
    "\"\"\"\n",
    "edgelist format for MultiVERSE:\n",
    "(layer, source, target, weight)\n",
    "\"\"\"\n",
    "\n",
    "class Edge():\n",
    "    \n",
    "    def __init__(self, layer):\n",
    "        self.edges = np.transpose(np.nonzero(layer))\n",
    "        \n",
    "    def edgelist_format(self, weight=1, save_as_txt=False, file_name=None):\n",
    "        \"\"\"\n",
    "        layer:       layer Ai\n",
    "        edges:       (nx2) within layer edges\n",
    "        save_as_txt: if True saves edge as .txt file\n",
    "        file_name:   name of .txt file\n",
    "    \n",
    "        Takes in edges and adds layer_num and weight to format into \n",
    "        (layer_num, start node, finish node, weight)\n",
    "        as a numpy array\n",
    "    \n",
    "        e.g.\n",
    "        1,2,3,1\n",
    "        layer 1, edge from node 2 to 3, weight 1\n",
    "        \"\"\"    \n",
    "        iter = 0\n",
    "        new_edges = []\n",
    "        for row in self.edges:\n",
    "            row = np.insert(row, 0, 1)\n",
    "            row = list(np.insert(row, 3, weight))\n",
    "            new_edges.append(row)\n",
    "            iter += 1\n",
    "        new_edges = np.asarray(new_edges)\n",
    "    \n",
    "        # save as input .txt file for MultiVERSE\n",
    "        if save_as_txt:\n",
    "            if file_name:\n",
    "                np.savetxt(file_name+'.txt', new_edges, fmt='%d', delimiter=' ')\n",
    "        return new_edges"
   ]
  },
  {
   "cell_type": "code",
   "execution_count": 21,
   "metadata": {},
   "outputs": [
    {
     "data": {
      "text/plain": [
       "(4814, 2)"
      ]
     },
     "execution_count": 21,
     "metadata": {},
     "output_type": "execute_result"
    }
   ],
   "source": [
    "A2 = Edge(A2)\n",
    "A2.edges.shape"
   ]
  },
  {
   "cell_type": "code",
   "execution_count": 23,
   "metadata": {},
   "outputs": [],
   "source": [
    "A2_edges = A2.edgelist_format()"
   ]
  },
  {
   "cell_type": "code",
   "execution_count": 24,
   "metadata": {},
   "outputs": [
    {
     "data": {
      "text/plain": [
       "array([[  1,   1,  22,   1],\n",
       "       [  1,   1,  29,   1],\n",
       "       [  1,   1,  48,   1],\n",
       "       [  1,   1,  49,   1],\n",
       "       [  1,   1,  57,   1],\n",
       "       [  1,   1,  79,   1],\n",
       "       [  1,   1,  86,   1],\n",
       "       [  1,   1,  96,   1],\n",
       "       [  1,   1, 100,   1],\n",
       "       [  1,   1, 115,   1]], dtype=int32)"
      ]
     },
     "execution_count": 24,
     "metadata": {},
     "output_type": "execute_result"
    }
   ],
   "source": [
    "A2_edges[:10]"
   ]
  },
  {
   "cell_type": "code",
   "execution_count": null,
   "metadata": {},
   "outputs": [],
   "source": [
    "\"\"\"\n",
    "LAYER B2 FORMATTING FOR PROPER MULTIVERSE INPUT\n",
    "\"\"\""
   ]
  },
  {
   "cell_type": "code",
   "execution_count": null,
   "metadata": {},
   "outputs": [],
   "source": [
    "F2 = np.genfromtxt('F2.csv', delimiter=',')\n",
    "F2.shape"
   ]
  },
  {
   "cell_type": "code",
   "execution_count": null,
   "metadata": {},
   "outputs": [],
   "source": [
    "N = 500\n",
    "cos_sim_F2 = []\n",
    "\n",
    "for i in range(int(F2.shape[0]/N)+1):\n",
    "    tic = time.time()\n",
    "    if (i+1)*N > F2.shape[0]:\n",
    "        final_idx = F2.shape[0]\n",
    "    else:\n",
    "        final_idx = (i+1)*N\n",
    "    cos_sim_i = cosine_similarity(F2, F2[i*N:final_idx,])\n",
    "    cos_sim_F2.append(cos_sim_i)\n",
    "    toc = time.time()\n",
    "    print(f\"Iteration {i+1}: {toc-tic} seconds\")\n",
    "\n",
    "tic = time.time()\n",
    "cos_sim_F2 = np.concatenate(cos_sim_F2, axis=1) # Concat all cos_sim_i\n",
    "toc = time.time()\n",
    "print(f\"Concatenation took {toc-tic} seconds\")\n",
    "# print('cos_sim:\\n', cos_sim_F2)\n",
    "\n",
    "np.savez_compressed('B2', F2=cos_sim_F2)"
   ]
  },
  {
   "cell_type": "code",
   "execution_count": null,
   "metadata": {},
   "outputs": [],
   "source": [
    "# loading cosine similarity matrix for 2nd layer of AminerData\n",
    "#B1 = np.load('B1.npz')\n",
    "B2 = np.load('B2.npz')\n",
    "#B3 = np.load('B3.npz')\n",
    "\n",
    "#B1['B1'].shape, B2['B2'].shape, B3['B3'].shape\n",
    "B2['B2'].shape"
   ]
  },
  {
   "cell_type": "code",
   "execution_count": null,
   "metadata": {},
   "outputs": [],
   "source": [
    "mean1 = np.mean(B1['B1'])\n",
    "median1 = np.median(B1['B1'])\n",
    "std1 = np.std(B1['B1'])\n",
    "threshold1 = mean1 + 3*std1\n",
    "\n",
    "print(\"Cosine Similarities of B1\")\n",
    "print(\"\")\n",
    "print(\"mean:\", mean1)\n",
    "print(\"median:\", median1)\n",
    "print(\"STD:\", std1)\n",
    "print(\"99.9th %ile:\", mean1 + 3*std1)\n",
    "print(\"Number of edges:\", len(B1['B1'][B1['B1'] > threshold1]))\n",
    "\n",
    "plt.hist(B1['B1'][B1['B1'] > threshold1], bins='auto')\n",
    "plt.title('Largest 0.1% of Similarities')\n",
    "plt.plot()\n",
    "plt.show()"
   ]
  },
  {
   "cell_type": "code",
   "execution_count": null,
   "metadata": {},
   "outputs": [],
   "source": [
    "# edges (matrix indices) for node similarity above threshold value\n",
    "B1_edges = np.transpose(np.where(B1['B1'] > thresholdB1)) \n",
    "#B2_edges = np.transpose(np.where(B2['B2'] > thresholdB2)) \n",
    "type(B1_edges)"
   ]
  },
  {
   "cell_type": "code",
   "execution_count": null,
   "metadata": {},
   "outputs": [],
   "source": [
    "\"\"\"\n",
    "edgelist format for MultiVERSE:\n",
    "(layer, source, target, weight)\n",
    "\"\"\"\n",
    "\n",
    "iter = 0\n",
    "B1_new_edges = []\n",
    "for row in B1_edges:\n",
    "    row = np.insert(row, 0, 1)\n",
    "    row = list(np.insert(row, 3, 1))\n",
    "    B1_new_edges.append(row)\n",
    "    iter += 1\n",
    "\n",
    "B1_new_edges = np.asarray(B1_new_edges)\n",
    "B1_new_edges.shape"
   ]
  },
  {
   "cell_type": "code",
   "execution_count": null,
   "metadata": {},
   "outputs": [],
   "source": [
    "layer2_multiplex_edges = np.vstack((A2_new_edges, B2_new_edges))\n",
    "layer2_multiplex_edges.shape"
   ]
  },
  {
   "cell_type": "code",
   "execution_count": null,
   "metadata": {},
   "outputs": [],
   "source": [
    "layer2_multiplex_edges"
   ]
  },
  {
   "cell_type": "code",
   "execution_count": null,
   "metadata": {},
   "outputs": [],
   "source": [
    "np.savetxt('Aminer_layer2_multiplex_edges.txt', layer2_multiplex_edges, fmt='%d', delimiter=' ')  # save as input .txt file for MultiVERSE"
   ]
  }
 ],
 "metadata": {
  "kernelspec": {
   "display_name": "Python 3",
   "language": "python",
   "name": "python3"
  },
  "language_info": {
   "codemirror_mode": {
    "name": "ipython",
    "version": 3
   },
   "file_extension": ".py",
   "mimetype": "text/x-python",
   "name": "python",
   "nbconvert_exporter": "python",
   "pygments_lexer": "ipython3",
   "version": "3.7.9"
  }
 },
 "nbformat": 4,
 "nbformat_minor": 4
}
