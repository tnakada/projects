{
 "cells": [
  {
   "cell_type": "code",
   "execution_count": 1,
   "metadata": {},
   "outputs": [],
   "source": [
    "import numpy as np\n",
    "%matplotlib inline\n",
    "from scipy.io import loadmat\n",
    "import time"
   ]
  },
  {
   "cell_type": "code",
   "execution_count": 2,
   "metadata": {},
   "outputs": [],
   "source": [
    "\"\"\"\n",
    "edgelist format for MultiVERSE:\n",
    "(layer, source, target, weight)\n",
    "\"\"\"\n",
    "\n",
    "def edgelist_A(layer):\n",
    "    edges = np.transpose(np.nonzero(layer))\n",
    "    ones = np.ones((edges.shape[0],1)).astype(int)\n",
    "    new_edges = np.hstack((ones, edges, ones))\n",
    "    return new_edges\n",
    "\n",
    "\n",
    "def edgelist_B(layer):\n",
    "    \n",
    "    mean = np.mean(layer)\n",
    "    std = np.std(layer)\n",
    "    threshold = mean + 3*std\n",
    "    if threshold > 1:\n",
    "        threshold = .99\n",
    "    above_threshold = layer > threshold\n",
    "    \n",
    "    edges = np.transpose(np.where(above_threshold)).astype(int)\n",
    "    ones = np.ones((edges.shape[0],1)).astype(int)\n",
    "    twos = ones * 2\n",
    "    new_edges = np.hstack((twos, edges, ones))\n",
    "    return new_edges"
   ]
  },
  {
   "cell_type": "code",
   "execution_count": 3,
   "metadata": {},
   "outputs": [],
   "source": [
    "aminer = loadmat('AminerData_v6.mat')\n",
    "A1 = aminer['G'][0,0][0][0][0]\n",
    "A2 = aminer['G'][0,1][0][0][0]\n",
    "A3 = aminer['G'][0,2][0][0][0]"
   ]
  },
  {
   "cell_type": "code",
   "execution_count": 2,
   "metadata": {},
   "outputs": [],
   "source": [
    "aminer = loadmat('AminerData_v6.mat')\n",
    "A3 = aminer['G'][0,2][0][0][0]"
   ]
  },
  {
   "cell_type": "code",
   "execution_count": 4,
   "metadata": {},
   "outputs": [
    {
     "data": {
      "text/plain": [
       "((62602, 62602), (899, 899), (61843, 61843))"
      ]
     },
     "execution_count": 4,
     "metadata": {},
     "output_type": "execute_result"
    }
   ],
   "source": [
    "A1.shape, A2.shape, A3.shape"
   ]
  },
  {
   "cell_type": "code",
   "execution_count": 5,
   "metadata": {},
   "outputs": [
    {
     "data": {
      "text/plain": [
       "array([[    1,     6, 16609,     1],\n",
       "       [    1,     6, 29395,     1],\n",
       "       [    1,     6, 35280,     1],\n",
       "       ...,\n",
       "       [    1, 55757, 23829,     1],\n",
       "       [    1, 55763, 53004,     1],\n",
       "       [    1, 55769, 32223,     1]])"
      ]
     },
     "execution_count": 5,
     "metadata": {},
     "output_type": "execute_result"
    }
   ],
   "source": [
    "A1_edges = edgelist_A(A1)\n",
    "A1_edges"
   ]
  },
  {
   "cell_type": "code",
   "execution_count": 6,
   "metadata": {},
   "outputs": [
    {
     "data": {
      "text/plain": [
       "array([[  1,   1,  22,   1],\n",
       "       [  1,   1,  29,   1],\n",
       "       [  1,   1,  48,   1],\n",
       "       ...,\n",
       "       [  1, 742, 587,   1],\n",
       "       [  1, 742, 631,   1],\n",
       "       [  1, 742, 718,   1]])"
      ]
     },
     "execution_count": 6,
     "metadata": {},
     "output_type": "execute_result"
    }
   ],
   "source": [
    "A2_edges = edgelist_A(A2)\n",
    "A2_edges"
   ]
  },
  {
   "cell_type": "code",
   "execution_count": 7,
   "metadata": {},
   "outputs": [
    {
     "data": {
      "text/plain": [
       "array([[    1,     0,    26,     1],\n",
       "       [    1,     0,    37,     1],\n",
       "       [    1,     0,    50,     1],\n",
       "       ...,\n",
       "       [    1, 61840, 26065,     1],\n",
       "       [    1, 61840, 61839,     1],\n",
       "       [    1, 61842, 14173,     1]])"
      ]
     },
     "execution_count": 7,
     "metadata": {},
     "output_type": "execute_result"
    }
   ],
   "source": [
    "A3_edges = edgelist_A(A3)\n",
    "A3_edges"
   ]
  },
  {
   "cell_type": "code",
   "execution_count": 6,
   "metadata": {},
   "outputs": [
    {
     "data": {
      "text/plain": [
       "(402074, 4)"
      ]
     },
     "execution_count": 6,
     "metadata": {},
     "output_type": "execute_result"
    }
   ],
   "source": [
    "A3_edges.shape"
   ]
  },
  {
   "cell_type": "code",
   "execution_count": null,
   "metadata": {},
   "outputs": [],
   "source": [
    "B1 = np.load('cosine_matrices/B1.npz')\n",
    "B1 = B1['B1']\n",
    "B1.shape"
   ]
  },
  {
   "cell_type": "code",
   "execution_count": 14,
   "metadata": {},
   "outputs": [
    {
     "data": {
      "text/plain": [
       "(899, 899)"
      ]
     },
     "execution_count": 14,
     "metadata": {},
     "output_type": "execute_result"
    }
   ],
   "source": [
    "B2 = np.load('B2.npz') \n",
    "B2 = B2['B2']\n",
    "B2.shape"
   ]
  },
  {
   "cell_type": "code",
   "execution_count": 7,
   "metadata": {},
   "outputs": [
    {
     "data": {
      "text/plain": [
       "(61843, 61843)"
      ]
     },
     "execution_count": 7,
     "metadata": {},
     "output_type": "execute_result"
    }
   ],
   "source": [
    "B3 = np.load('B3.npz') \n",
    "B3 = B3['B3']\n",
    "B3.shape"
   ]
  },
  {
   "cell_type": "code",
   "execution_count": 19,
   "metadata": {},
   "outputs": [
    {
     "name": "stdout",
     "output_type": "stream",
     "text": [
      "44.35867476463318\n"
     ]
    },
    {
     "data": {
      "text/plain": [
       "array([[    2,     0,     0,     1],\n",
       "       [    2,     0,  2126,     1],\n",
       "       [    2,     0,  6470,     1],\n",
       "       ...,\n",
       "       [    2, 62601, 62594,     1],\n",
       "       [    2, 62601, 62600,     1],\n",
       "       [    2, 62601, 62601,     1]])"
      ]
     },
     "execution_count": 19,
     "metadata": {},
     "output_type": "execute_result"
    }
   ],
   "source": [
    "tic = time.time()\n",
    "B1_edges = edgelist_B(B1)\n",
    "toc = time.time()\n",
    "print(toc-tic)\n",
    "\n",
    "B1_edges"
   ]
  },
  {
   "cell_type": "code",
   "execution_count": 15,
   "metadata": {},
   "outputs": [
    {
     "data": {
      "text/plain": [
       "array([[  2,   1,   1,   1],\n",
       "       [  2,   1, 298,   1],\n",
       "       [  2,   1, 450,   1],\n",
       "       ...,\n",
       "       [  2, 898, 445,   1],\n",
       "       [  2, 898, 889,   1],\n",
       "       [  2, 898, 898,   1]])"
      ]
     },
     "execution_count": 15,
     "metadata": {},
     "output_type": "execute_result"
    }
   ],
   "source": [
    "B2_edges = edgelist_B(B2)\n",
    "B2_edges"
   ]
  },
  {
   "cell_type": "code",
   "execution_count": 13,
   "metadata": {},
   "outputs": [
    {
     "data": {
      "text/plain": [
       "array([[    2,     0,     0,     1],\n",
       "       [    2,     0,    37,     1],\n",
       "       [    2,     0,   701,     1],\n",
       "       ...,\n",
       "       [    2, 61840, 61840,     1],\n",
       "       [    2, 61842,  6072,     1],\n",
       "       [    2, 61842, 61842,     1]])"
      ]
     },
     "execution_count": 13,
     "metadata": {},
     "output_type": "execute_result"
    }
   ],
   "source": [
    "B3_edges = edgelist_B(B3)\n",
    "B3_edges"
   ]
  },
  {
   "cell_type": "code",
   "execution_count": 20,
   "metadata": {},
   "outputs": [
    {
     "data": {
      "text/plain": [
       "(96624676, 4)"
      ]
     },
     "execution_count": 20,
     "metadata": {},
     "output_type": "execute_result"
    }
   ],
   "source": [
    "layer1_multiplex_edges = np.vstack((A1_edges, B1_edges))\n",
    "layer1_multiplex_edges.shape"
   ]
  },
  {
   "cell_type": "code",
   "execution_count": 16,
   "metadata": {},
   "outputs": [
    {
     "data": {
      "text/plain": [
       "(20542, 4)"
      ]
     },
     "execution_count": 16,
     "metadata": {},
     "output_type": "execute_result"
    }
   ],
   "source": [
    "layer2_multiplex_edges = np.vstack((A2_edges, B2_edges))\n",
    "layer2_multiplex_edges.shape"
   ]
  },
  {
   "cell_type": "code",
   "execution_count": 14,
   "metadata": {},
   "outputs": [
    {
     "data": {
      "text/plain": [
       "(138328099, 4)"
      ]
     },
     "execution_count": 14,
     "metadata": {},
     "output_type": "execute_result"
    }
   ],
   "source": [
    "layer3_multiplex_edges = np.vstack((A3_edges, B3_edges))\n",
    "layer3_multiplex_edges.shape"
   ]
  },
  {
   "cell_type": "code",
   "execution_count": 24,
   "metadata": {},
   "outputs": [
    {
     "data": {
      "text/plain": [
       "array([[    1,     6, 16609,     1],\n",
       "       [    1,     6, 29395,     1],\n",
       "       [    1,     6, 35280,     1],\n",
       "       ...,\n",
       "       [    2, 62601, 62594,     1],\n",
       "       [    2, 62601, 62600,     1],\n",
       "       [    2, 62601, 62601,     1]])"
      ]
     },
     "execution_count": 24,
     "metadata": {},
     "output_type": "execute_result"
    }
   ],
   "source": [
    "layer1_multiplex_edges"
   ]
  },
  {
   "cell_type": "code",
   "execution_count": 17,
   "metadata": {},
   "outputs": [
    {
     "data": {
      "text/plain": [
       "array([[  1,   1,  22,   1],\n",
       "       [  1,   1,  29,   1],\n",
       "       [  1,   1,  48,   1],\n",
       "       ...,\n",
       "       [  2, 898, 445,   1],\n",
       "       [  2, 898, 889,   1],\n",
       "       [  2, 898, 898,   1]])"
      ]
     },
     "execution_count": 17,
     "metadata": {},
     "output_type": "execute_result"
    }
   ],
   "source": [
    "layer2_multiplex_edges"
   ]
  },
  {
   "cell_type": "code",
   "execution_count": 15,
   "metadata": {},
   "outputs": [
    {
     "data": {
      "text/plain": [
       "array([[    1,     0,    26,     1],\n",
       "       [    1,     0,    37,     1],\n",
       "       [    1,     0,    50,     1],\n",
       "       ...,\n",
       "       [    2, 61840, 61840,     1],\n",
       "       [    2, 61842,  6072,     1],\n",
       "       [    2, 61842, 61842,     1]])"
      ]
     },
     "execution_count": 15,
     "metadata": {},
     "output_type": "execute_result"
    }
   ],
   "source": [
    "layer3_multiplex_edges"
   ]
  },
  {
   "cell_type": "code",
   "execution_count": 25,
   "metadata": {},
   "outputs": [],
   "source": [
    "np.savetxt('edges/Aminer_layer1_multiplex_edges.txt', layer1_multiplex_edges, fmt='%d', delimiter=' ')  # save as input .txt file for MultiVERSE"
   ]
  },
  {
   "cell_type": "code",
   "execution_count": 18,
   "metadata": {},
   "outputs": [],
   "source": [
    "np.savetxt('edges/Aminer_layer2_multiplex_edges.txt', layer2_multiplex_edges, fmt='%d', delimiter=' ')  # save as input .txt file for MultiVERSE"
   ]
  },
  {
   "cell_type": "code",
   "execution_count": 16,
   "metadata": {},
   "outputs": [],
   "source": [
    "np.savetxt('edges/Aminer_layer3_multiplex_edges.txt', layer3_multiplex_edges, fmt='%d', delimiter=' ')  # save as input .txt file for MultiVERSE"
   ]
  }
 ],
 "metadata": {
  "environment": {
   "name": "common-cpu.m58",
   "type": "gcloud",
   "uri": "gcr.io/deeplearning-platform-release/base-cpu:m58"
  },
  "kernelspec": {
   "display_name": "Python 3",
   "language": "python",
   "name": "python3"
  },
  "language_info": {
   "codemirror_mode": {
    "name": "ipython",
    "version": 3
   },
   "file_extension": ".py",
   "mimetype": "text/x-python",
   "name": "python",
   "nbconvert_exporter": "python",
   "pygments_lexer": "ipython3",
   "version": "3.7.9"
  }
 },
 "nbformat": 4,
 "nbformat_minor": 4
}
