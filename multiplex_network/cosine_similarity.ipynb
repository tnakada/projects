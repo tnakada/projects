{
 "cells": [
  {
   "cell_type": "code",
   "execution_count": 2,
   "metadata": {},
   "outputs": [],
   "source": [
    "import numpy as np\n",
    "from sklearn.metrics.pairwise import cosine_similarity\n",
    "import time"
   ]
  },
  {
   "cell_type": "code",
   "execution_count": 2,
   "metadata": {},
   "outputs": [
    {
     "data": {
      "text/plain": [
       "(62602, 100)"
      ]
     },
     "execution_count": 2,
     "metadata": {},
     "output_type": "execute_result"
    }
   ],
   "source": [
    "F1 = np.genfromtxt('F1.csv', delimiter=',')\n",
    "F1.shape"
   ]
  },
  {
   "cell_type": "code",
   "execution_count": 2,
   "metadata": {},
   "outputs": [
    {
     "data": {
      "text/plain": [
       "(899, 100)"
      ]
     },
     "execution_count": 2,
     "metadata": {},
     "output_type": "execute_result"
    }
   ],
   "source": [
    "F2 = np.genfromtxt('F2.csv', delimiter=',')\n",
    "F2.shape"
   ]
  },
  {
   "cell_type": "code",
   "execution_count": 3,
   "metadata": {},
   "outputs": [
    {
     "data": {
      "text/plain": [
       "(61843, 100)"
      ]
     },
     "execution_count": 3,
     "metadata": {},
     "output_type": "execute_result"
    }
   ],
   "source": [
    "F3 = np.genfromtxt('F3.csv', delimiter=',')\n",
    "F3.shape"
   ]
  },
  {
   "cell_type": "code",
   "execution_count": 3,
   "metadata": {},
   "outputs": [
    {
     "name": "stdout",
     "output_type": "stream",
     "text": [
      "Iteration 1: 0.5412297248840332 seconds\n",
      "Iteration 2: 0.6587049961090088 seconds\n",
      "Iteration 3: 0.5730602741241455 seconds\n",
      "Iteration 4: 0.46394920349121094 seconds\n",
      "Iteration 5: 0.49426889419555664 seconds\n",
      "Iteration 6: 0.583240270614624 seconds\n",
      "Iteration 7: 0.5448517799377441 seconds\n",
      "Iteration 8: 0.5993390083312988 seconds\n",
      "Iteration 9: 0.5852360725402832 seconds\n",
      "Iteration 10: 0.5347802639007568 seconds\n",
      "Iteration 11: 0.5569300651550293 seconds\n",
      "Iteration 12: 0.5330262184143066 seconds\n",
      "Iteration 13: 0.54360032081604 seconds\n",
      "Iteration 14: 0.6311047077178955 seconds\n",
      "Iteration 15: 0.5871171951293945 seconds\n",
      "Iteration 16: 0.5811553001403809 seconds\n",
      "Iteration 17: 0.5177068710327148 seconds\n",
      "Iteration 18: 0.5539369583129883 seconds\n",
      "Iteration 19: 0.5932168960571289 seconds\n",
      "Iteration 20: 0.642815113067627 seconds\n",
      "Iteration 21: 0.9483058452606201 seconds\n",
      "Iteration 22: 1.8488399982452393 seconds\n",
      "Iteration 23: 1.7233178615570068 seconds\n",
      "Iteration 24: 1.5867011547088623 seconds\n",
      "Iteration 25: 1.5346262454986572 seconds\n",
      "Iteration 26: 1.226736068725586 seconds\n",
      "Iteration 27: 1.8528718948364258 seconds\n",
      "Iteration 28: 1.0107979774475098 seconds\n",
      "Iteration 29: 0.8016440868377686 seconds\n",
      "Iteration 30: 0.8757069110870361 seconds\n",
      "Iteration 31: 1.8076879978179932 seconds\n",
      "Iteration 32: 1.15214204788208 seconds\n",
      "Iteration 33: 0.62843918800354 seconds\n",
      "Iteration 34: 0.8841748237609863 seconds\n",
      "Iteration 35: 0.6960158348083496 seconds\n",
      "Iteration 36: 0.8000669479370117 seconds\n",
      "Iteration 37: 1.0065703392028809 seconds\n",
      "Iteration 38: 0.9456160068511963 seconds\n",
      "Iteration 39: 0.7523736953735352 seconds\n",
      "Iteration 40: 1.1445770263671875 seconds\n",
      "Iteration 41: 0.7852098941802979 seconds\n",
      "Iteration 42: 1.2618160247802734 seconds\n",
      "Iteration 43: 0.8713240623474121 seconds\n",
      "Iteration 44: 0.8604810237884521 seconds\n",
      "Iteration 45: 0.7295129299163818 seconds\n",
      "Iteration 46: 0.8245360851287842 seconds\n",
      "Iteration 47: 0.8057279586791992 seconds\n",
      "Iteration 48: 0.7772610187530518 seconds\n",
      "Iteration 49: 1.2388200759887695 seconds\n",
      "Iteration 50: 0.8179612159729004 seconds\n",
      "Iteration 51: 0.7845239639282227 seconds\n",
      "Iteration 52: 0.6767988204956055 seconds\n",
      "Iteration 53: 0.8099839687347412 seconds\n",
      "Iteration 54: 0.8484370708465576 seconds\n",
      "Iteration 55: 0.8782241344451904 seconds\n",
      "Iteration 56: 0.8204479217529297 seconds\n",
      "Iteration 57: 0.7765638828277588 seconds\n",
      "Iteration 58: 0.7809000015258789 seconds\n",
      "Iteration 59: 0.9843399524688721 seconds\n",
      "Iteration 60: 1.1144249439239502 seconds\n",
      "Iteration 61: 1.2539639472961426 seconds\n",
      "Iteration 62: 0.800865888595581 seconds\n",
      "Iteration 63: 0.4707059860229492 seconds\n",
      "Concatenation took 215.1331799030304 seconds\n"
     ]
    }
   ],
   "source": [
    "'''\n",
    "Instead of computing the cos_sim between F and F, we can define a for loop:\n",
    "In each loop i, the cos_sim_i is computed beween F and F[i*N:(i+1)*N,], where\n",
    "N is the number of rows to be computed in each loop\n",
    "Shuo\n",
    "'''\n",
    "\n",
    "N=1000\n",
    "cos_sim_F1 = []\n",
    "\n",
    "for i in range(int(F1.shape[0]/N)+1):\n",
    "    tic = time.time()\n",
    "    if (i+1)*N > F1.shape[0]:\n",
    "        final_idx = F1.shape[0]\n",
    "    else:\n",
    "        final_idx = (i+1)*N\n",
    "    cos_sim_i = cosine_similarity(F1, F1[i*N:final_idx,])\n",
    "    cos_sim_F1.append(cos_sim_i)\n",
    "    toc = time.time()\n",
    "    print(f\"Iteration {i+1}: {toc-tic} seconds\")\n",
    "    \n",
    "tic = time.time()\n",
    "cos_sim_F1 = np.concatenate(cos_sim_F1, axis=1) # Concat all cos_sim_i\n",
    "toc = time.time()\n",
    "print(f\"Concatenation took {toc-tic} seconds\")\n",
    "# print('cos_sim:\\n', cos_sim_F1)\n",
    "\n",
    "np.savez_compressed('B1', F1=cos_sim_F1)"
   ]
  },
  {
   "cell_type": "code",
   "execution_count": 3,
   "metadata": {},
   "outputs": [
    {
     "name": "stdout",
     "output_type": "stream",
     "text": [
      "Iteration 1: 0.011113166809082031 seconds\n",
      "Iteration 2: 0.0060389041900634766 seconds\n",
      "Concatenation took 0.00335693359375 seconds\n"
     ]
    }
   ],
   "source": [
    "N = 500\n",
    "cos_sim_F2 = []\n",
    "\n",
    "for i in range(int(F2.shape[0]/N)+1):\n",
    "    tic = time.time()\n",
    "    if (i+1)*N > F2.shape[0]:\n",
    "        final_idx = F2.shape[0]\n",
    "    else:\n",
    "        final_idx = (i+1)*N\n",
    "    cos_sim_i = cosine_similarity(F2, F2[i*N:final_idx,])\n",
    "    cos_sim_F2.append(cos_sim_i)\n",
    "    toc = time.time()\n",
    "    print(f\"Iteration {i+1}: {toc-tic} seconds\")\n",
    "\n",
    "tic = time.time()\n",
    "cos_sim_F2 = np.concatenate(cos_sim_F2, axis=1) # Concat all cos_sim_i\n",
    "toc = time.time()\n",
    "print(f\"Concatenation took {toc-tic} seconds\")\n",
    "# print('cos_sim:\\n', cos_sim_F2)\n",
    "\n",
    "np.savez_compressed('B2', F2=cos_sim_F2)"
   ]
  },
  {
   "cell_type": "code",
   "execution_count": 4,
   "metadata": {},
   "outputs": [
    {
     "name": "stdout",
     "output_type": "stream",
     "text": [
      "Iteration 1: 0.5221681594848633 seconds\n",
      "Iteration 2: 0.44744110107421875 seconds\n",
      "Iteration 3: 0.51072096824646 seconds\n",
      "Iteration 4: 0.43254590034484863 seconds\n",
      "Iteration 5: 0.41196203231811523 seconds\n",
      "Iteration 6: 0.43967223167419434 seconds\n",
      "Iteration 7: 0.4398200511932373 seconds\n",
      "Iteration 8: 0.513375997543335 seconds\n",
      "Iteration 9: 0.4472339153289795 seconds\n",
      "Iteration 10: 0.5008540153503418 seconds\n",
      "Iteration 11: 0.533013105392456 seconds\n",
      "Iteration 12: 0.5556249618530273 seconds\n",
      "Iteration 13: 0.6760828495025635 seconds\n",
      "Iteration 14: 0.5975627899169922 seconds\n",
      "Iteration 15: 2.9840409755706787 seconds\n",
      "Iteration 16: 1.2373859882354736 seconds\n",
      "Iteration 17: 1.226250171661377 seconds\n",
      "Iteration 18: 0.6581788063049316 seconds\n",
      "Iteration 19: 1.3823230266571045 seconds\n",
      "Iteration 20: 1.216512680053711 seconds\n",
      "Iteration 21: 0.7962961196899414 seconds\n",
      "Iteration 22: 0.8508100509643555 seconds\n",
      "Iteration 23: 0.7859570980072021 seconds\n",
      "Iteration 24: 0.8837809562683105 seconds\n",
      "Iteration 25: 0.8411800861358643 seconds\n",
      "Iteration 26: 0.7887899875640869 seconds\n",
      "Iteration 27: 1.3082149028778076 seconds\n",
      "Iteration 28: 0.841048002243042 seconds\n",
      "Iteration 29: 1.1951189041137695 seconds\n",
      "Iteration 30: 1.3328440189361572 seconds\n",
      "Iteration 31: 1.0639090538024902 seconds\n",
      "Iteration 32: 0.8827610015869141 seconds\n",
      "Iteration 33: 1.0308499336242676 seconds\n",
      "Iteration 34: 1.12766695022583 seconds\n",
      "Iteration 35: 1.285170078277588 seconds\n",
      "Iteration 36: 0.8876218795776367 seconds\n",
      "Iteration 37: 0.8750391006469727 seconds\n",
      "Iteration 38: 0.9422621726989746 seconds\n",
      "Iteration 39: 0.8985168933868408 seconds\n",
      "Iteration 40: 1.1693487167358398 seconds\n",
      "Iteration 41: 1.2348830699920654 seconds\n",
      "Iteration 42: 1.0412731170654297 seconds\n",
      "Iteration 43: 1.5781147480010986 seconds\n",
      "Iteration 44: 0.8502869606018066 seconds\n",
      "Iteration 45: 1.6676039695739746 seconds\n",
      "Iteration 46: 0.8050839900970459 seconds\n",
      "Iteration 47: 1.787564754486084 seconds\n",
      "Iteration 48: 0.7697160243988037 seconds\n",
      "Iteration 49: 0.6488611698150635 seconds\n",
      "Iteration 50: 1.0534100532531738 seconds\n",
      "Iteration 51: 0.9744358062744141 seconds\n",
      "Iteration 52: 1.0571327209472656 seconds\n",
      "Iteration 53: 0.8870179653167725 seconds\n",
      "Iteration 54: 0.8873810768127441 seconds\n",
      "Iteration 55: 1.8698890209197998 seconds\n",
      "Iteration 56: 0.7646069526672363 seconds\n",
      "Iteration 57: 0.9961693286895752 seconds\n",
      "Iteration 58: 1.5402898788452148 seconds\n",
      "Iteration 59: 0.8251819610595703 seconds\n",
      "Iteration 60: 0.6223351955413818 seconds\n",
      "Iteration 61: 1.1862268447875977 seconds\n",
      "Iteration 62: 0.7757000923156738 seconds\n",
      "Concatenation took 287.22906279563904 seconds\n"
     ]
    }
   ],
   "source": [
    "N = 1000\n",
    "cos_sim_F3 = []\n",
    "\n",
    "for i in range(int(F3.shape[0]/N)+1):\n",
    "    tic = time.time()\n",
    "    if (i+1)*N > F3.shape[0]:\n",
    "        final_idx = F3.shape[0]\n",
    "    else:\n",
    "        final_idx = (i+1)*N\n",
    "    cos_sim_i = cosine_similarity(F3, F3[i*N:final_idx,])\n",
    "    cos_sim_F3.append(cos_sim_i)\n",
    "    toc = time.time()\n",
    "    print(f\"Iteration {i+1}: {toc-tic} seconds\")\n",
    "    \n",
    "tic = time.time()\n",
    "cos_sim_F3 = np.concatenate(cos_sim_F3, axis=1) # Concat all cos_sim_i\n",
    "toc = time.time()\n",
    "print(f\"Concatenation took {toc-tic} seconds\")\n",
    "# print('cos_sim:\\n', cos_sim_F3)\n",
    "\n",
    "np.savez_compressed('B3', F3=cos_sim_F3)"
   ]
  },
  {
   "cell_type": "code",
   "execution_count": null,
   "metadata": {},
   "outputs": [],
   "source": [
    "'''\n",
    "# Check if the result is correct:\n",
    "cos_sim_all = cosine_similarity(F, F)\n",
    "if np.sum(abs(cos_sim_all-cos_sim)) < 1e-10:\n",
    "    print('Same!')\n",
    "'''"
   ]
  }
 ],
 "metadata": {
  "kernelspec": {
   "display_name": "Python 3",
   "language": "python",
   "name": "python3"
  },
  "language_info": {
   "codemirror_mode": {
    "name": "ipython",
    "version": 3
   },
   "file_extension": ".py",
   "mimetype": "text/x-python",
   "name": "python",
   "nbconvert_exporter": "python",
   "pygments_lexer": "ipython3",
   "version": "3.7.9"
  }
 },
 "nbformat": 4,
 "nbformat_minor": 4
}
