{
 "cells": [
  {
   "cell_type": "code",
   "execution_count": 394,
   "metadata": {},
   "outputs": [
    {
     "data": {
      "text/plain": [
       "'\\nCREATING MULTIPLEX NETWORKS AND FORMATTING FOR MULTIVERSE\\n\\nCURRENTLY ONLY FOR SECOND LAYER OF AMINER DATA (899 x 899)\\n'"
      ]
     },
     "execution_count": 394,
     "metadata": {},
     "output_type": "execute_result"
    }
   ],
   "source": [
    "\"\"\"\n",
    "CREATING MULTIPLEX NETWORKS AND FORMATTING FOR MULTIVERSE\n",
    "\n",
    "CURRENTLY ONLY FOR SECOND LAYER OF AMINER DATA (899 x 899)\n",
    "\"\"\""
   ]
  },
  {
   "cell_type": "code",
   "execution_count": 1,
   "metadata": {},
   "outputs": [],
   "source": [
    "import numpy as np"
   ]
  },
  {
   "cell_type": "code",
   "execution_count": 379,
   "metadata": {},
   "outputs": [
    {
     "data": {
      "text/plain": [
       "''"
      ]
     },
     "execution_count": 379,
     "metadata": {},
     "output_type": "execute_result"
    }
   ],
   "source": [
    "\"\"\"\n",
    "LAYER A2 FORMATTING FOR PROPER MULTIVERSE INPUT\n",
    "\"\"\""
   ]
  },
  {
   "cell_type": "code",
   "execution_count": 395,
   "metadata": {},
   "outputs": [],
   "source": [
    "A2 = np.genfromtxt('A2.csv', delimiter=',')  # import original AminerData, A2.csv (2nd layer)"
   ]
  },
  {
   "cell_type": "code",
   "execution_count": 396,
   "metadata": {},
   "outputs": [
    {
     "data": {
      "text/plain": [
       "(1, 899)"
      ]
     },
     "execution_count": 396,
     "metadata": {},
     "output_type": "execute_result"
    }
   ],
   "source": [
    "A2[0:1,:].shape  # this is a representation of first node"
   ]
  },
  {
   "cell_type": "code",
   "execution_count": 397,
   "metadata": {},
   "outputs": [
    {
     "data": {
      "text/plain": [
       "(4814, 2)"
      ]
     },
     "execution_count": 397,
     "metadata": {},
     "output_type": "execute_result"
    }
   ],
   "source": [
    "A2_edges = np.transpose(np.nonzero(A2))  # edgelist format (source node, target node)\n",
    "A2_edges.shape # these edges are double counted (1,2) != (2,1)"
   ]
  },
  {
   "cell_type": "code",
   "execution_count": 398,
   "metadata": {},
   "outputs": [
    {
     "data": {
      "text/plain": [
       "numpy.ndarray"
      ]
     },
     "execution_count": 398,
     "metadata": {},
     "output_type": "execute_result"
    }
   ],
   "source": [
    "type(A2_edges)"
   ]
  },
  {
   "cell_type": "code",
   "execution_count": 399,
   "metadata": {},
   "outputs": [
    {
     "data": {
      "text/plain": [
       "(4814, 4)"
      ]
     },
     "execution_count": 399,
     "metadata": {},
     "output_type": "execute_result"
    }
   ],
   "source": [
    "\"\"\"\n",
    "edgelist format for MultiVERSE:\n",
    "(layer, source, target, weight)\n",
    "\"\"\"\n",
    "\n",
    "iter = 0\n",
    "A2_new_edges = []\n",
    "for row in A2_edges:\n",
    "    row = np.insert(row, 0, 1)        # insert 1 in beginning for layer\n",
    "    row = list(np.insert(row, 3, 1))  # insert 1 in end for weight\n",
    "    A2_new_edges.append(row)\n",
    "    iter += 1\n",
    "\n",
    "A2_new_edges = np.asarray(A2_new_edges)\n",
    "A2_new_edges.shape"
   ]
  },
  {
   "cell_type": "code",
   "execution_count": 400,
   "metadata": {},
   "outputs": [
    {
     "data": {
      "text/plain": [
       "array([[  1,   1, 728,   1],\n",
       "       [  1,   1, 733,   1],\n",
       "       [  1,   1, 742,   1],\n",
       "       [  1,   3,  39,   1],\n",
       "       [  1,   3,  93,   1],\n",
       "       [  1,   3, 176,   1],\n",
       "       [  1,   3, 316,   1],\n",
       "       [  1,   3, 317,   1],\n",
       "       [  1,   3, 407,   1],\n",
       "       [  1,   3, 456,   1],\n",
       "       [  1,   3, 467,   1],\n",
       "       [  1,   3, 471,   1],\n",
       "       [  1,   3, 472,   1],\n",
       "       [  1,   3, 477,   1],\n",
       "       [  1,   3, 552,   1],\n",
       "       [  1,   3, 576,   1],\n",
       "       [  1,   3, 682,   1],\n",
       "       [  1,   4,  23,   1],\n",
       "       [  1,   4,  28,   1],\n",
       "       [  1,   4, 263,   1],\n",
       "       [  1,   4, 292,   1],\n",
       "       [  1,   4, 341,   1],\n",
       "       [  1,   4, 382,   1],\n",
       "       [  1,   4, 407,   1],\n",
       "       [  1,   4, 408,   1],\n",
       "       [  1,   4, 409,   1],\n",
       "       [  1,   4, 477,   1],\n",
       "       [  1,   4, 552,   1],\n",
       "       [  1,   4, 681,   1],\n",
       "       [  1,   4, 728,   1],\n",
       "       [  1,  10,  10,   1],\n",
       "       [  1,  10,  15,   1],\n",
       "       [  1,  10,  17,   1],\n",
       "       [  1,  10,  94,   1],\n",
       "       [  1,  10, 142,   1]])"
      ]
     },
     "execution_count": 400,
     "metadata": {},
     "output_type": "execute_result"
    }
   ],
   "source": [
    "A2_new_edges[65:100]  # sanity check"
   ]
  },
  {
   "cell_type": "code",
   "execution_count": 401,
   "metadata": {},
   "outputs": [],
   "source": [
    "np.savetxt('A2_edges.txt', A2_new_edges, fmt='%d', delimiter=' ')  # save as input .txt file for MultiVERSE"
   ]
  },
  {
   "cell_type": "code",
   "execution_count": null,
   "metadata": {},
   "outputs": [],
   "source": [
    "\"\"\"\n",
    "LAYER B2 FORMATTING FOR PROPER MULTIVERSE INPUT\n",
    "\"\"\""
   ]
  },
  {
   "cell_type": "code",
   "execution_count": 402,
   "metadata": {},
   "outputs": [
    {
     "data": {
      "text/plain": [
       "(899, 899)"
      ]
     },
     "execution_count": 402,
     "metadata": {},
     "output_type": "execute_result"
    }
   ],
   "source": [
    "B2 = np.load('B2.npz')  # loading cosine similarity matrix for 2nd layer of AminerData\n",
    "B2['F2'].shape"
   ]
  },
  {
   "cell_type": "code",
   "execution_count": 403,
   "metadata": {},
   "outputs": [
    {
     "data": {
      "text/plain": [
       "numpy.ndarray"
      ]
     },
     "execution_count": 403,
     "metadata": {},
     "output_type": "execute_result"
    }
   ],
   "source": [
    "type(B2['F2'])"
   ]
  },
  {
   "cell_type": "code",
   "execution_count": 404,
   "metadata": {},
   "outputs": [
    {
     "data": {
      "text/plain": [
       "(1, 899)"
      ]
     },
     "execution_count": 404,
     "metadata": {},
     "output_type": "execute_result"
    }
   ],
   "source": [
    "B2['F2'][0:1,:].shape  #representation of the first node"
   ]
  },
  {
   "cell_type": "code",
   "execution_count": 405,
   "metadata": {},
   "outputs": [],
   "source": [
    "similarity = []\n",
    "for row in B2['F2']:\n",
    "    for each in row:\n",
    "        if 0 < np.round(each, decimals=2) < 1:\n",
    "            similarity.append(each)"
   ]
  },
  {
   "cell_type": "code",
   "execution_count": 406,
   "metadata": {},
   "outputs": [
    {
     "data": {
      "text/plain": [
       "315362"
      ]
     },
     "execution_count": 406,
     "metadata": {},
     "output_type": "execute_result"
    }
   ],
   "source": [
    "similarity = np.asarray(similarity)\n",
    "len(similarity)"
   ]
  },
  {
   "cell_type": "code",
   "execution_count": 426,
   "metadata": {},
   "outputs": [
    {
     "name": "stdout",
     "output_type": "stream",
     "text": [
      "Cosine Similarities between 0.05 < sim < .995\n",
      "\n",
      "min: 0.005000523332264318\n",
      "max: 0.9949795704456791\n",
      "mean: 0.07534895776762207\n",
      "median: 0.02753670312528149\n",
      "STD: 0.13684700254448334\n",
      "97.5th %ile: 0.34904296285658876\n",
      "Num. edges: 13528\n"
     ]
    },
    {
     "data": {
      "image/png": "[encoded data removed]",
      "text/plain": [
       "<Figure size 432x288 with 1 Axes>"
      ]
     },
     "metadata": {
      "needs_background": "light"
     },
     "output_type": "display_data"
    }
   ],
   "source": [
    "print(\"Cosine Similarities between 0.05 < sim < .995\")\n",
    "print(\"\")\n",
    "print(\"min:\",np.min(similarity))\n",
    "print(\"max:\",np.max(similarity))\n",
    "print(\"mean:\",np.mean(similarity))\n",
    "print(\"median:\", np.median(similarity))\n",
    "print(\"STD:\", np.std(similarity))\n",
    "print(\"97.5th %ile:\", np.mean(similarity) + 2*np.std(similarity))\n",
    "\n",
    "threshold = np.mean(similarity) + np.std(similarity)\n",
    "print(\"Num. edges:\", len(similarity[similarity > np.mean(similarity) + 2*np.std(similarity)]))\n",
    "\n",
    "plt.hist(similarity[similarity > np.mean(similarity) + 2*np.std(similarity)], bins='auto')\n",
    "plt.title(\"Largest 2.5% of Similarities\")\n",
    "plt.plot()\n",
    "plt.show()"
   ]
  },
  {
   "cell_type": "code",
   "execution_count": 423,
   "metadata": {},
   "outputs": [
    {
     "data": {
      "image/png": "[encoded data removed]",
      "text/plain": [
       "<Figure size 432x288 with 1 Axes>"
      ]
     },
     "metadata": {
      "needs_background": "light"
     },
     "output_type": "display_data"
    }
   ],
   "source": [
    "import matplotlib.pyplot as plt\n",
    "%matplotlib inline\n",
    "\n",
    "plt.hist(similarity, bins='auto')\n",
    "plt.title(\"Cosine Similarities\")\n",
    "plt.plot()\n",
    "plt.show()"
   ]
  },
  {
   "cell_type": "code",
   "execution_count": 409,
   "metadata": {},
   "outputs": [
    {
     "name": "stdout",
     "output_type": "stream",
     "text": [
      "Cosine Similarities between 0 < sim < 1\n",
      "\n",
      "mean: 0.03261213018387313\n",
      "median: 0.00046364493995302257\n",
      "STD: 0.10680705165581651\n",
      "97.5th %ile: 0.13941918183968965\n",
      "Number of edges: 23532\n"
     ]
    },
    {
     "data": {
      "image/png": "[encoded data removed]",
      "text/plain": [
       "<Figure size 432x288 with 1 Axes>"
      ]
     },
     "metadata": {
      "needs_background": "light"
     },
     "output_type": "display_data"
    }
   ],
   "source": [
    "print(\"Cosine Similarities between 0 < sim < 1\")\n",
    "print(\"\")\n",
    "print(\"mean:\", np.mean(B2['F2']))\n",
    "print(\"median:\", np.median(B2['F2']))\n",
    "print(\"STD:\", np.std(B2['F2']))\n",
    "print(\"97.5th %ile:\", np.mean(B2['F2']) + np.std(B2['F2']))\n",
    "print(\"Number of edges:\", len(B2['F2'][B2['F2'] > np.mean(B2['F2']) + 2*np.std(B2['F2'])]))\n",
    "\n",
    "plt.hist(B2['F2'][B2['F2'] > np.mean(B2['F2']) + 2*np.std(B2['F2'])], bins='auto')\n",
    "plt.title('Largest 2.5% of Similarities')\n",
    "plt.plot()\n",
    "plt.show()"
   ]
  },
  {
   "cell_type": "code",
   "execution_count": 410,
   "metadata": {},
   "outputs": [
    {
     "data": {
      "text/plain": [
       "0.2121959603121054"
      ]
     },
     "execution_count": 410,
     "metadata": {},
     "output_type": "execute_result"
    }
   ],
   "source": [
    "threshold  # cosine similarities above this value will be an edge between the nodes"
   ]
  },
  {
   "cell_type": "code",
   "execution_count": 411,
   "metadata": {},
   "outputs": [
    {
     "data": {
      "text/plain": [
       "numpy.ndarray"
      ]
     },
     "execution_count": 411,
     "metadata": {},
     "output_type": "execute_result"
    }
   ],
   "source": [
    "# edges (matrix indices) for node similarity above threshold value\n",
    "B2_edges = np.transpose(np.where(B2['F2'] > threshold)) \n",
    "type(B2_edges)"
   ]
  },
  {
   "cell_type": "code",
   "execution_count": 412,
   "metadata": {},
   "outputs": [
    {
     "data": {
      "text/plain": [
       "(27928, 4)"
      ]
     },
     "execution_count": 412,
     "metadata": {},
     "output_type": "execute_result"
    }
   ],
   "source": [
    "\"\"\"\n",
    "edgelist format for MultiVERSE:\n",
    "(layer, source, target, weight)\n",
    "\"\"\"\n",
    "\n",
    "iter = 0\n",
    "B2_new_edges = []\n",
    "for row in B2_edges:\n",
    "    row = np.insert(row, 0, 2)\n",
    "    row = list(np.insert(row, 3, 1))\n",
    "    B2_new_edges.append(row)\n",
    "    iter += 1\n",
    "\n",
    "B2_new_edges = np.asarray(B2_new_edges)\n",
    "B2_new_edges.shape"
   ]
  },
  {
   "cell_type": "code",
   "execution_count": 414,
   "metadata": {},
   "outputs": [
    {
     "data": {
      "text/plain": [
       "array([[  2,   1,   1,   1],\n",
       "       [  2,   1, 249,   1],\n",
       "       [  2,   1, 298,   1],\n",
       "       [  2,   1, 450,   1],\n",
       "       [  2,   1, 543,   1],\n",
       "       [  2,   1, 552,   1],\n",
       "       [  2,   1, 553,   1],\n",
       "       [  2,   1, 656,   1],\n",
       "       [  2,   1, 712,   1],\n",
       "       [  2,   1, 728,   1],\n",
       "       [  2,   2,   2,   1],\n",
       "       [  2,   2,   8,   1],\n",
       "       [  2,   2,  39,   1],\n",
       "       [  2,   2,  43,   1],\n",
       "       [  2,   2,  72,   1],\n",
       "       [  2,   2,  84,   1],\n",
       "       [  2,   2,  89,   1],\n",
       "       [  2,   2,  95,   1],\n",
       "       [  2,   2,  97,   1],\n",
       "       [  2,   2, 150,   1]])"
      ]
     },
     "execution_count": 414,
     "metadata": {},
     "output_type": "execute_result"
    }
   ],
   "source": [
    "B2_new_edges[:20]  # sanity check"
   ]
  },
  {
   "cell_type": "code",
   "execution_count": 415,
   "metadata": {},
   "outputs": [],
   "source": [
    "np.savetxt('B2_edges.txt', B2_new_edges, fmt='%d', delimiter=' ')  # save as input .txt file for MultiVERSE"
   ]
  },
  {
   "cell_type": "code",
   "execution_count": 417,
   "metadata": {},
   "outputs": [
    {
     "data": {
      "text/plain": [
       "(32742, 4)"
      ]
     },
     "execution_count": 417,
     "metadata": {},
     "output_type": "execute_result"
    }
   ],
   "source": [
    "layer2_multiplex_edges = np.vstack((A2_new_edges, B2_new_edges))\n",
    "layer2_multiplex_edges.shape"
   ]
  },
  {
   "cell_type": "code",
   "execution_count": 418,
   "metadata": {},
   "outputs": [
    {
     "data": {
      "text/plain": [
       "array([[  1,   1,  22,   1],\n",
       "       [  1,   1,  29,   1],\n",
       "       [  1,   1,  48,   1],\n",
       "       ...,\n",
       "       [  2, 898, 445,   1],\n",
       "       [  2, 898, 889,   1],\n",
       "       [  2, 898, 898,   1]])"
      ]
     },
     "execution_count": 418,
     "metadata": {},
     "output_type": "execute_result"
    }
   ],
   "source": [
    "layer2_multiplex_edges"
   ]
  },
  {
   "cell_type": "code",
   "execution_count": 419,
   "metadata": {},
   "outputs": [],
   "source": [
    "np.savetxt('Aminer_layer2_multiplex_edges.txt', layer2_multiplex_edges, fmt='%d', delimiter=' ')  # save as input .txt file for MultiVERSE"
   ]
  }
 ],
 "metadata": {
  "kernelspec": {
   "display_name": "Python 3",
   "language": "python",
   "name": "python3"
  },
  "language_info": {
   "codemirror_mode": {
    "name": "ipython",
    "version": 3
   },
   "file_extension": ".py",
   "mimetype": "text/x-python",
   "name": "python",
   "nbconvert_exporter": "python",
   "pygments_lexer": "ipython3",
   "version": "3.7.9"
  }
 },
 "nbformat": 4,
 "nbformat_minor": 4
}
